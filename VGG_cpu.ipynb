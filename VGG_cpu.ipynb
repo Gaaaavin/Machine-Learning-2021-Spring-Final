{
 "cells": [
  {
   "cell_type": "code",
   "execution_count": 65,
   "metadata": {},
   "outputs": [],
   "source": [
    "import torch\n",
    "import torch.optim as optim\n",
    "import torch.nn as nn\n",
    "from torch.autograd import Variable\n",
    "import torchvision.models as models\n",
    "from torchvision import datasets, transforms\n",
    "from torch import utils"
   ]
  },
  {
   "cell_type": "code",
   "execution_count": 66,
   "metadata": {},
   "outputs": [],
   "source": [
    "class VGGNet(nn.Module):\n",
    "    def __init__(self, num_classes=100):\n",
    "        super(VGGNet, self).__init__()\n",
    "        net = models.vgg16(pretrained=True)\n",
    "        net.classifier = nn.Sequential()\n",
    "        self.features = net\n",
    "        self.classifier = nn.Sequential(\n",
    "                nn.Linear(512 * 7 * 7, 512),\n",
    "                nn.ReLU(True),\n",
    "                nn.Dropout(),\n",
    "                nn.Linear(512, 128),\n",
    "                nn.ReLU(True),\n",
    "                nn.Dropout(),\n",
    "                nn.Linear(128, num_classes),\n",
    "        )\n",
    "\n",
    "    def forward(self, x):\n",
    "        x = self.features(x)\n",
    "        x = x.view(x.size(0), -1)\n",
    "        x = self.classifier(x)\n",
    "        return x"
   ]
  },
  {
   "cell_type": "code",
   "execution_count": 67,
   "metadata": {},
   "outputs": [],
   "source": [
    "data_transform = transforms.ToTensor()"
   ]
  },
  {
   "cell_type": "code",
   "execution_count": 69,
   "metadata": {},
   "outputs": [
    {
     "name": "stdout",
     "output_type": "stream",
     "text": [
      "2022\n"
     ]
    }
   ],
   "source": [
    "dataset = datasets.ImageFolder('100_WebFace', transform=data_transform)\n",
    "print(len(dataset))\n",
    "train, valid, test = utils.data.random_split(dataset=dataset, lengths=[1800, 122, 100])\n",
    "train_dataloader = utils.data.DataLoader(train, batch_size=4, shuffle=True)\n",
    "val_dataloader = utils.data.DataLoader(valid, batch_size=4, shuffle=True)"
   ]
  },
  {
   "cell_type": "code",
   "execution_count": 71,
   "metadata": {},
   "outputs": [
    {
     "name": "stdout",
     "output_type": "stream",
     "text": [
      "epoch 1\n"
     ]
    },
    {
     "ename": "NameError",
     "evalue": "name 'train_datasets' is not defined",
     "output_type": "error",
     "traceback": [
      "\u001b[0;31m---------------------------------------------------------------------------\u001b[0m",
      "\u001b[0;31mNameError\u001b[0m                                 Traceback (most recent call last)",
      "\u001b[0;32m<ipython-input-71-4395160cf690>\u001b[0m in \u001b[0;36m<module>\u001b[0;34m\u001b[0m\n\u001b[1;32m     31\u001b[0m         \u001b[0moptimizer\u001b[0m\u001b[0;34m.\u001b[0m\u001b[0mstep\u001b[0m\u001b[0;34m(\u001b[0m\u001b[0;34m)\u001b[0m\u001b[0;34m\u001b[0m\u001b[0;34m\u001b[0m\u001b[0m\n\u001b[1;32m     32\u001b[0m     print('Train Loss: {:.6f}, Acc: {:.6f}'.format(train_loss / (len(\n\u001b[0;32m---> 33\u001b[0;31m         train_datasets)), train_acc / (len(train_datasets))))\n\u001b[0m\u001b[1;32m     34\u001b[0m \u001b[0;34m\u001b[0m\u001b[0m\n\u001b[1;32m     35\u001b[0m     \u001b[0;31m# evaluation--------------------------------\u001b[0m\u001b[0;34m\u001b[0m\u001b[0;34m\u001b[0m\u001b[0;34m\u001b[0m\u001b[0m\n",
      "\u001b[0;31mNameError\u001b[0m: name 'train_datasets' is not defined"
     ]
    }
   ],
   "source": [
    "learning_rate = 0.0002\n",
    "model = VGGNet()\n",
    "model = VGGNet()\n",
    "if torch.cuda.is_available():\n",
    "    model.cuda()\n",
    "params = [{'params': md.parameters()} for md in model.children()\n",
    "          if md in [model.classifier]]\n",
    "optimizer = optim.Adam(model.parameters(), lr=learning_rate)\n",
    "loss_func = nn.CrossEntropyLoss()\n",
    "\n",
    "Loss_list = []\n",
    "Accuracy_list = []\n",
    "\n",
    "\n",
    "\n",
    "for epoch in range(100):\n",
    "    print('epoch {}'.format(epoch + 1))\n",
    "    # training-----------------------------\n",
    "    train_loss = 0.\n",
    "    train_acc = 0.\n",
    "    for batch_x, batch_y in train_dataloader:\n",
    "        batch_x, batch_y = Variable(batch_x).cpu(), Variable(batch_y).cpu()\n",
    "        out = model(batch_x)\n",
    "        loss = loss_func(out, batch_y)\n",
    "        train_loss += loss.data.item()\n",
    "        pred = torch.max(out, 1)[1]\n",
    "        train_correct = (pred == batch_y).sum()\n",
    "        train_acc += train_correct.data.item()\n",
    "        optimizer.zero_grad()\n",
    "        loss.backward()\n",
    "        optimizer.step()\n",
    "    print('Train Loss: {:.6f}, Acc: {:.6f}'.format(train_loss / (len(\n",
    "        train_datasets)), train_acc / (len(train_datasets))))\n",
    "\n",
    "    # evaluation--------------------------------\n",
    "    model.eval()\n",
    "    eval_loss = 0.\n",
    "    eval_acc = 0.\n",
    "    for batch_x, batch_y in val_dataloader:\n",
    "        batch_x, batch_y = Variable(batch_x, volatile=True).cpu(), Variable(batch_y, volatile=True).cpu()\n",
    "        out = model(batch_x)\n",
    "        loss = loss_func(out, batch_y)\n",
    "        eval_loss += loss.data.item()\n",
    "        pred = torch.max(out, 1)[1]\n",
    "        num_correct = (pred == batch_y).sum()\n",
    "        eval_acc += num_correct.data.item()\n",
    "    print('Test Loss: {:.6f}, Acc: {:.6f}'.format(eval_loss / (len(\n",
    "        val_datasets)), eval_acc / (len(val_datasets))))\n",
    "        \n",
    "    Loss_list.append(eval_loss / (len(val_datasets)))\n",
    "    Accuracy_list.append(100 * eval_acc / (len(val_datasets)))\n",
    "\n",
    "x1 = range(0, 100)\n",
    "x2 = range(0, 100)\n",
    "y1 = Accuracy_list\n",
    "y2 = Loss_list\n",
    "plt.subplot(2, 1, 1)\n",
    "plt.plot(x1, y1, 'o-')\n",
    "plt.title('Test accuracy vs. epoches')\n",
    "plt.ylabel('Test accuracy')\n",
    "plt.subplot(2, 1, 2)\n",
    "plt.plot(x2, y2, '.-')\n",
    "plt.xlabel('Test loss vs. epoches')\n",
    "plt.ylabel('Test loss')\n",
    "plt.show()\n",
    "# plt.savefig(\"accuracy_loss.jpg\")"
   ]
  },
  {
   "cell_type": "code",
   "execution_count": null,
   "metadata": {},
   "outputs": [],
   "source": []
  }
 ],
 "metadata": {
  "kernelspec": {
   "display_name": "Python 3",
   "language": "python",
   "name": "python3"
  },
  "language_info": {
   "codemirror_mode": {
    "name": "ipython",
    "version": 3
   },
   "file_extension": ".py",
   "mimetype": "text/x-python",
   "name": "python",
   "nbconvert_exporter": "python",
   "pygments_lexer": "ipython3",
   "version": "3.8.5"
  }
 },
 "nbformat": 4,
 "nbformat_minor": 5
}
